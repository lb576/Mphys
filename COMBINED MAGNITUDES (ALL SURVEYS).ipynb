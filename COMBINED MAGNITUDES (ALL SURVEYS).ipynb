{
 "cells": [
  {
   "cell_type": "code",
   "execution_count": 148,
   "metadata": {
    "collapsed": false
   },
   "outputs": [],
   "source": [
    "import numpy as np\n",
    "%config InlineBackend.rc = {}\n",
    "import matplotlib\n",
    "import matplotlib.pyplot as plt\n",
    "import matplotlib.colors as Color\n",
    "%matplotlib inline\n",
    "from astropy.utils.data import download_file\n",
    "from astropy.utils.data import get_pkg_data_filename\n",
    "from astropy.io import fits\n",
    "from matplotlib.colors import LogNorm\n",
    "from photutils import CircularAperture\n",
    "from astropy import units as u\n",
    "from photutils import aperture_photometry\n",
    "from photutils import CircularAnnulus\n",
    "from photutils import EllipticalAnnulus\n",
    "from math import sin, cos, pi\n",
    "from photutils import EllipticalAperture\n",
    "import pandas as pd\n",
    "import atpy\n",
    "import aplpy\n",
    "import montage_wrapper\n",
    "from math import log10\n",
    "from reproject import reproject_exact\n",
    "from reproject import reproject_interp\n",
    "from astropy.wcs import WCS"
   ]
  },
  {
   "cell_type": "code",
   "execution_count": 149,
   "metadata": {
    "collapsed": false,
    "scrolled": true
   },
   "outputs": [],
   "source": [
    "letter=\"a\"\n",
    "#i = 10\n",
    "#band=1\n",
    "arrmgePic = [1, 2, 3, 4, 5, 6, 7, 8, 9, 10, 11, 12, 13, 14, 15, 16, 17]\n",
    "image_file = [1, 2, 3]#, 4, 5, 6, 7, 8, 9, 10, 11, 12, 13, 14, 15, 16, 17]\n",
    "image_data = [1, 2, 3]#, 4, 5, 6, 7, 8, 9, 10, 11, 12, 13, 14, 15, 16, 17]\n",
    "flat_image = [1, 2, 3]#, 4, 5, 6, 7, 8, 9, 10, 11, 12, 13, 14, 15, 16, 17]\n",
    "flat_image2 = [1, 2, 3, 4]#, 5, 6, 7, 8, 9, 10, 11, 12, 13, 14, 15, 16, 17]\n",
    "testarray = [1, 2, 3]#, 4, 5, 6, 7, 8, 9, 10, 11, 12, 13, 14, 15, 16, 17]\n",
    "short_array = [1, 2, 3, 4, 5]\n",
    "image_file1 = [1, 2, 3, 4, 5]\n",
    "image_data1 = [1, 2, 3, 4, 5]\n",
    "testarray1 = [1, 2, 3, 4, 5]\n",
    "testarray2 = [1, 2, 3, 4]\n",
    "image_file2 = [1, 2, 3, 4]\n",
    "image_data2 = [1, 2, 3, 4]\n",
    "newtestarray2MASS = [1, 2, 3]\n",
    "newtestarraySDSS = [1, 2, 3, 4, 5]\n",
    "newtestarrayWISE = [1, 2, 3, 4]\n",
    "Length_Range_WISE = [1 ,2, 3, 4]\n",
    "Length_Range_SDSS = [1, 2, 3, 4, 5]\n",
    "Length_Range_2MASS = [1, 2, 3]\n",
    "parsing_headerWISE = [1, 2, 3, 4]\n",
    "hduinfoWISE = [1, 2, 3, 4]\n",
    "wcsWISE1 = [1, 2, 3, 4]\n",
    "hdudataWISE = [1, 2, 3, 4]\n",
    "parsing_headerSDSS = [1, 2, 3, 4, 5]\n",
    "hduinfoSDSS = [1, 2, 3, 4, 5]\n",
    "wcsSDSS1 = [1, 2, 3, 4, 5]\n",
    "hdudataSDSS = [1, 2, 3, 4, 5]"
   ]
  },
  {
   "cell_type": "code",
   "execution_count": 150,
   "metadata": {
    "collapsed": false,
    "scrolled": true
   },
   "outputs": [
    {
     "name": "stdout",
     "output_type": "stream",
     "text": [
      "[WCS Keywords\n",
      "\n",
      "Number of WCS axes: 2\n",
      "CTYPE : 'RA---SIN'  'DEC--SIN'  \n",
      "CRVAL : 220.84116599999999  1.5144439999999999  \n",
      "CRPIX : 825.0  -282.0  \n",
      "NAXIS    : 302 302, WCS Keywords\n",
      "\n",
      "Number of WCS axes: 2\n",
      "CTYPE : 'RA---SIN'  'DEC--SIN'  \n",
      "CRVAL : 220.84116599999999  1.5144439999999999  \n",
      "CRPIX : 825.0  -282.0  \n",
      "NAXIS    : 302 302, WCS Keywords\n",
      "\n",
      "Number of WCS axes: 2\n",
      "CTYPE : 'RA---SIN'  'DEC--SIN'  \n",
      "CRVAL : 220.84116599999999  1.5144439999999999  \n",
      "CRPIX : 825.0  -282.0  \n",
      "NAXIS    : 302 302, WCS Keywords\n",
      "\n",
      "Number of WCS axes: 2\n",
      "CTYPE : 'RA---SIN'  'DEC--SIN'  \n",
      "CRVAL : 220.84116599999999  1.5144439999999999  \n",
      "CRPIX : 825.0  -282.0  \n",
      "NAXIS    : 302 302]\n",
      "['/mnt/alt43-XDrive/Physics/Projects/MPhys Projects/2016-17/Gas Dust Galaxies/All Data/2MASS/SEXY IMAGES/wise-10a-1.fits', '/mnt/alt43-XDrive/Physics/Projects/MPhys Projects/2016-17/Gas Dust Galaxies/All Data/2MASS/SEXY IMAGES/wise-10a-2.fits', '/mnt/alt43-XDrive/Physics/Projects/MPhys Projects/2016-17/Gas Dust Galaxies/All Data/2MASS/SEXY IMAGES/wise-10a-3.fits', '/mnt/alt43-XDrive/Physics/Projects/MPhys Projects/2016-17/Gas Dust Galaxies/All Data/2MASS/SEXY IMAGES/wise-10a-4.fits']\n",
      "[array([[ 3.75351381,  3.7542963 ,  3.77759886, ...,  3.61803389,\n",
      "         3.61816883,  3.6043191 ],\n",
      "       [ 3.7469101 ,  3.75471926,  3.78374004, ...,  3.61938572,\n",
      "         3.621346  ,  3.60657835],\n",
      "       [ 3.73617649,  3.74721146,  3.78097439, ...,  3.61948109,\n",
      "         3.6231308 ,  3.61187506],\n",
      "       ..., \n",
      "       [ 3.64844227,  3.66924381,  3.68543339, ...,  3.93524027,\n",
      "         3.89513063,  3.84132433],\n",
      "       [ 3.65764284,  3.67317867,  3.68752718, ...,  3.80835342,\n",
      "         3.7874465 ,  3.76043463],\n",
      "       [ 3.66792679,  3.68223858,  3.69695234, ...,  3.72267246,\n",
      "         3.7142477 ,  3.70478773]], dtype=float32), array([[ 10.5677042 ,  10.59552956,  10.63899899, ...,  10.48071766,\n",
      "         10.47676277,  10.48369694],\n",
      "       [ 10.56976509,  10.6002388 ,  10.64512253, ...,  10.47644711,\n",
      "         10.47117233,  10.47596264],\n",
      "       [ 10.57023144,  10.60047913,  10.64288521, ...,  10.47221947,\n",
      "         10.46870613,  10.47242165],\n",
      "       ..., \n",
      "       [ 10.46326733,  10.48495579,  10.50429249, ...,  10.52449322,\n",
      "         10.5077486 ,  10.50792217],\n",
      "       [ 10.47883034,  10.49557877,  10.51060581, ...,  10.47814465,\n",
      "         10.46513653,  10.46780777],\n",
      "       [ 10.50419521,  10.51160526,  10.51733589, ...,  10.44347954,\n",
      "         10.43811989,  10.4441433 ]], dtype=float32), array([[ 609.15600586,  609.04772949,  608.93493652, ...,  608.75946045,\n",
      "         609.02111816,  609.26306152],\n",
      "       [ 609.20617676,  609.11907959,  609.04693604, ...,  608.83343506,\n",
      "         609.02331543,  609.19934082],\n",
      "       [ 609.23962402,  609.17150879,  609.13824463, ...,  608.97766113,\n",
      "         609.09698486,  609.18200684],\n",
      "       ..., \n",
      "       [ 608.96337891,  608.9854126 ,  609.02355957, ...,  609.85388184,\n",
      "         609.81213379,  609.6998291 ],\n",
      "       [ 608.82952881,  608.87261963,  608.95611572, ...,  609.77642822,\n",
      "         609.7890625 ,  609.706604  ],\n",
      "       [ 608.63409424,  608.68304443,  608.80499268, ...,  609.66174316,\n",
      "         609.72790527,  609.69140625]], dtype=float32), array([[ 196.21226501,  196.21430969,  196.21101379, ...,  196.16516113,\n",
      "         196.17279053,  196.16992188],\n",
      "       [ 196.21714783,  196.21844482,  196.21453857, ...,  196.16596985,\n",
      "         196.17333984,  196.17004395],\n",
      "       [ 196.22349548,  196.22409058,  196.21951294, ...,  196.16505432,\n",
      "         196.17260742,  196.16938782],\n",
      "       ..., \n",
      "       [ 196.07279968,  196.05810547,  196.0501709 , ...,  196.17205811,\n",
      "         196.17784119,  196.18739319],\n",
      "       [ 196.05654907,  196.04116821,  196.03358459, ...,  196.16708374,\n",
      "         196.17372131,  196.18409729],\n",
      "       [ 196.04948425,  196.03343201,  196.02638245, ...,  196.15730286,\n",
      "         196.16471863,  196.1763916 ]], dtype=float32)]\n",
      "[<astropy.io.fits.hdu.image.PrimaryHDU object at 0x7fd277e81850>, <astropy.io.fits.hdu.image.PrimaryHDU object at 0x7fd269531d10>, <astropy.io.fits.hdu.image.PrimaryHDU object at 0x7fd277f2ec50>, <astropy.io.fits.hdu.image.PrimaryHDU object at 0x7fd277f2e210>]\n"
     ]
    }
   ],
   "source": [
    "for i in range(10, 11): #arrmgPic:\n",
    "    for bands in flat_image2:\n",
    "        image_file2[bands-1] = '/mnt/alt43-XDrive/Physics/Projects/MPhys Projects/2016-17/Gas Dust Galaxies/All Data/2MASS/SEXY IMAGES/wise-%i%c-%i.fits' % (i, letter, bands)\n",
    "        hdu_list2 = fits.open(image_file2[bands-1])\n",
    "        image_data2[bands-1] = fits.getdata(image_file2[bands-1])\n",
    "        testarray2[bands-1]=image_file2[bands-1]\n",
    "        newtestarrayWISE[bands-1] = image_data2[bands-1]\n",
    "        #newtestarrayWISE[bands-1] = image_file2[bands-1]\n",
    "        Length_Range_WISE[bands-1]=len(newtestarrayWISE[bands-1])\n",
    "        #print(len(newtestarrayWISE[bands-1]) )\n",
    "        #print(newtestarrayWISE[bands-1])\n",
    "        \n",
    "         \n",
    "        parsing_headerWISE[bands-1] = get_pkg_data_filename(image_file2[bands-1])\n",
    "        hduinfoWISE[bands-1] = fits.open(parsing_headerWISE[bands-1])[0]\n",
    "        wcsWISE1[bands-1] = WCS(hduinfoWISE[bands-1].header)\n",
    "        hdudataWISE[bands-1] = hduinfoWISE[bands-1].data\n",
    "        \n",
    "        \n",
    "    #print(image_data2[0])\n",
    "    print(wcsWISE1)\n",
    "    print(parsing_headerWISE)\n",
    "    print(hdudataWISE)\n",
    "    print(hduinfoWISE)"
   ]
  },
  {
   "cell_type": "code",
   "execution_count": 151,
   "metadata": {
    "collapsed": false,
    "scrolled": true
   },
   "outputs": [
    {
     "name": "stdout",
     "output_type": "stream",
     "text": [
      "/mnt/alt43-XDrive/Physics/Projects/MPhys Projects/2016-17/Gas Dust Galaxies/All Data/2MASS/SEXY IMAGES/10asdss-u.fits\n",
      "\n",
      "\n",
      "<astropy.io.fits.hdu.image.PrimaryHDU object at 0x7fd269619390>\n",
      "\n",
      "\n",
      "WCS Keywords\n",
      "\n",
      "Number of WCS axes: 2\n",
      "CTYPE : 'RA---TAN'  'DEC--TAN'  \n",
      "CRVAL : 221.09415999000001  1.7063044599999999  \n",
      "CRPIX : 1024.5  744.5  \n",
      "CD1_1 CD1_2  : 2.87063574582508e-06  0.00010997882687924  \n",
      "CD2_1 CD2_2  : 0.000110007724609375  -2.8323319892473e-06  \n",
      "NAXIS    : 2048 1489\n",
      "\n",
      "\n",
      "[[1031 1033 1025 ..., 1030 1038 1029]\n",
      " [1029 1035 1039 ..., 1030 1037 1029]\n",
      " [1034 1030 1036 ..., 1040 1029 1032]\n",
      " ..., \n",
      " [1036 1025 1029 ..., 1036 1024 1029]\n",
      " [1027 1032 1031 ..., 1030 1032 1039]\n",
      " [1038 1034 1020 ..., 1033 1032 1032]]\n",
      "()\n",
      "\n",
      "\n",
      "()\n",
      "/mnt/alt43-XDrive/Physics/Projects/MPhys Projects/2016-17/Gas Dust Galaxies/All Data/2MASS/SEXY IMAGES/10asdss-g.fits\n",
      "\n",
      "\n",
      "<astropy.io.fits.hdu.image.PrimaryHDU object at 0x7fd26b874d10>\n",
      "\n",
      "\n",
      "WCS Keywords\n",
      "\n",
      "Number of WCS axes: 2\n",
      "CTYPE : 'RA---TAN'  'DEC--TAN'  \n",
      "CRVAL : 221.09393334000001  1.7064925  \n",
      "CRPIX : 1024.5  744.5  \n",
      "CD1_1 CD1_2  : 2.8664966765482601e-06  0.000109982611485392  \n",
      "CD2_1 CD2_2  : 0.000109905219726562  -2.8626209677419999e-06  \n",
      "NAXIS    : 2048 1489\n",
      "\n",
      "\n",
      "[[1092 1107 1104 ..., 1101 1102 1097]\n",
      " [1096 1099 1098 ..., 1095 1093 1096]\n",
      " [1104 1101 1103 ..., 1095 1095 1096]\n",
      " ..., \n",
      " [1093 1090 1092 ..., 1120 1118 1095]\n",
      " [1097 1091 1093 ..., 1111 1114 1092]\n",
      " [1096 1095 1101 ..., 1111 1103 1103]]\n",
      "()\n",
      "\n",
      "\n",
      "()\n",
      "/mnt/alt43-XDrive/Physics/Projects/MPhys Projects/2016-17/Gas Dust Galaxies/All Data/2MASS/SEXY IMAGES/10asdss-r.fits\n",
      "\n",
      "\n",
      "<astropy.io.fits.hdu.image.PrimaryHDU object at 0x7fd27757dc50>\n",
      "\n",
      "\n",
      "WCS Keywords\n",
      "\n",
      "Number of WCS axes: 2\n",
      "CTYPE : 'RA---TAN'  'DEC--TAN'  \n",
      "CRVAL : 221.09503953999999  1.7065967099999999  \n",
      "CRPIX : 1024.5  744.5  \n",
      "CD1_1 CD1_2  : 2.8449728694056001e-06  0.000109976895693769  \n",
      "CD2_1 CD2_2  : 0.000109969306640625  -2.8283064516130002e-06  \n",
      "NAXIS    : 2048 1489\n",
      "\n",
      "\n",
      "[[1194 1185 1172 ..., 1181 1186 1173]\n",
      " [1187 1174 1183 ..., 1185 1173 1185]\n",
      " [1184 1189 1173 ..., 1169 1187 1181]\n",
      " ..., \n",
      " [1172 1180 1189 ..., 1181 1185 1188]\n",
      " [1186 1176 1175 ..., 1182 1175 1176]\n",
      " [1182 1188 1187 ..., 1189 1188 1183]]\n",
      "()\n",
      "\n",
      "\n",
      "()\n",
      "/mnt/alt43-XDrive/Physics/Projects/MPhys Projects/2016-17/Gas Dust Galaxies/All Data/2MASS/SEXY IMAGES/10asdss-i.fits\n",
      "\n",
      "\n",
      "<astropy.io.fits.hdu.image.PrimaryHDU object at 0x7fd26bb9c410>\n",
      "\n",
      "\n",
      "WCS Keywords\n",
      "\n",
      "Number of WCS axes: 2\n",
      "CTYPE : 'RA---TAN'  'DEC--TAN'  \n",
      "CRVAL : 221.09476364  1.7067703999999999  \n",
      "CRPIX : 1024.5  744.5  \n",
      "CD1_1 CD1_2  : 2.8425957377193298e-06  0.000109972291025215  \n",
      "CD2_1 CD2_2  : 0.000109934135742187  -2.8580981182795001e-06  \n",
      "NAXIS    : 2048 1489\n",
      "\n",
      "\n",
      "[[1220 1225 1204 ..., 1232 1216 1222]\n",
      " [1226 1227 1229 ..., 1228 1233 1227]\n",
      " [1223 1222 1229 ..., 1230 1218 1229]\n",
      " ..., \n",
      " [1237 1244 1227 ..., 1223 1231 1227]\n",
      " [1227 1237 1233 ..., 1241 1217 1221]\n",
      " [1222 1228 1211 ..., 1235 1229 1227]]\n",
      "()\n",
      "\n",
      "\n",
      "()\n",
      "/mnt/alt43-XDrive/Physics/Projects/MPhys Projects/2016-17/Gas Dust Galaxies/All Data/2MASS/SEXY IMAGES/10asdss-z.fits\n",
      "\n",
      "\n",
      "<astropy.io.fits.hdu.image.PrimaryHDU object at 0x7fd277713550>\n",
      "\n",
      "\n",
      "WCS Keywords\n",
      "\n",
      "Number of WCS axes: 2\n",
      "CTYPE : 'RA---TAN'  'DEC--TAN'  \n",
      "CRVAL : 221.09437317999999  1.7067524599999999  \n",
      "CRPIX : 1024.5  744.5  \n",
      "CD1_1 CD1_2  : 2.8594291132489698e-06  0.000109975234293756  \n",
      "CD2_1 CD2_2  : 0.000109927739257813  -2.8547782258065002e-06  \n",
      "NAXIS    : 2048 1489\n",
      "\n",
      "\n",
      "[[1124 1134 1125 ..., 1129 1124 1115]\n",
      " [1126 1117 1124 ..., 1121 1127 1123]\n",
      " [1125 1120 1120 ..., 1109 1128 1128]\n",
      " ..., \n",
      " [1124 1120 1129 ..., 1126 1124 1129]\n",
      " [1127 1119 1131 ..., 1126 1126 1125]\n",
      " [1125 1131 1126 ..., 1125 1122 1123]]\n",
      "()\n",
      "\n",
      "\n",
      "()\n"
     ]
    }
   ],
   "source": [
    "for i in range(10, 11): #arrmgePic:\n",
    "    for numb in short_array:\n",
    "        if numb == 1:\n",
    "            color = 'u'\n",
    "        elif numb == 2:\n",
    "            color = 'g'\n",
    "        elif numb == 3:\n",
    "            color = 'r'\n",
    "        elif numb == 4:\n",
    "            color = 'i'\n",
    "        elif numb == 5:\n",
    "            color = 'z'\n",
    "        image_file1[numb-1] = '/mnt/alt43-XDrive/Physics/Projects/MPhys Projects/2016-17/Gas Dust Galaxies/All Data/2MASS/SEXY IMAGES/%i%csdss-%c.fits' % (i, letter, color)\n",
    "        hdu_list1 = fits.open(image_file1[numb-1])\n",
    "        image_data1[numb-1] = fits.getdata(image_file1[numb-1])\n",
    "        testarray1[numb-1] = image_file1[numb-1]\n",
    "        newtestarraySDSS[numb-1] = image_data1[numb-1]\n",
    "        #newtestarraySDSS[numb-1] = image_file1[numb-1]\n",
    "        \n",
    "        parsing_headerSDSS[numb-1] = get_pkg_data_filename(image_file1[numb-1])\n",
    "        hduinfoSDSS[numb-1] = fits.open(parsing_headerSDSS[numb-1])[0]\n",
    "        wcsSDSS1[numb-1] = WCS(hduinfoSDSS[numb-1].header)\n",
    "        hdudataSDSS[numb-1] = hduinfoSDSS[numb-1].data\n",
    "        \n",
    "        #print(image_file1[numb-1])\n",
    "        Length_Range_SDSS[numb-1]=len(newtestarraySDSS[numb-1])\n",
    "        #print(len(newtestarraySDSS[numb-1]))\n",
    "        #print(newtestarraySDSS[numb-1])\n",
    "        print(parsing_headerSDSS[numb-1])\n",
    "        print'\\n'\n",
    "        print(hduinfoSDSS[numb-1])\n",
    "        print '\\n'\n",
    "        print(wcsSDSS1[numb-1])\n",
    "        print '\\n'\n",
    "        print(hdudataSDSS[numb-1])\n",
    "        print( )\n",
    "        print '\\n'\n",
    "        print( )"
   ]
  },
  {
   "cell_type": "code",
   "execution_count": 152,
   "metadata": {
    "collapsed": false
   },
   "outputs": [
    {
     "name": "stdout",
     "output_type": "stream",
     "text": [
      "415\n",
      "415\n",
      "415\n",
      "()\n"
     ]
    }
   ],
   "source": [
    "for i in range(10, 11): #arrmgPic:\n",
    "    for band in flat_image:\n",
    "        if band == 1:\n",
    "            fill = 'h'\n",
    "        elif band == 2:\n",
    "            fill = 'j'\n",
    "        elif band == 3:\n",
    "            fill = 'k'\n",
    "        image_file[band-1] = '/mnt/alt43-XDrive/Physics/Projects/MPhys Projects/2016-17/Gas Dust Galaxies/All Data/2MASS/SEXY IMAGES/%d%ctwomass-%c.fits' % (i, letter, fill)\n",
    "        hdu_list = fits.open(image_file[band-1])\n",
    "        image_data[band-1] = fits.getdata(image_file[band-1])\n",
    "        testarray[band-1]=image_file[band-1]\n",
    "        newtestarray2MASS[band-1] = image_data[band-1] #np.delete(testarray[band-1], [121])\n",
    "        #newtestarray2MASS[band-1] = image_file[band-1]\n",
    "        Length_Range_2MASS[band-1]=len(newtestarray2MASS[band-1])\n",
    "        print(len(newtestarray2MASS[band-1]))\n",
    "    print( )"
   ]
  },
  {
   "cell_type": "code",
   "execution_count": 153,
   "metadata": {
    "collapsed": true
   },
   "outputs": [],
   "source": [
    "#cube = aplpy.make_rgb_cube([testarray1[0], testarray1[2], testarray1[1]], '/mnt/alt43-XDrive/Physics/Projects/MPhys Projects/2016-17/Gas Dust Galaxies/All Data/2MASS/OPRGB/%d%c%c_Gcube%d%c.fits' % (i, letter, fill, i, letter))\n",
    "    #cube = aplpy.make_rgb_cube([testarray[0], testarray[1], testarray[2], testarray[3]], '/mnt/alt43-XDrive/Physics/Projects/MPhys Projects/2016-17/Gas Dust Galaxies/All Data/WISE/%d%cPic_cube%d%c.fits' % (i, letter, i, letter))\n",
    "    #cube1 = '/mnt/alt43-XDrive/Physics/Projects/MPhys Projects/2016-17/Gas Dust Galaxies/All Data/2MASS/OPRGB/%d%c%c_Gcube%d%c.fits' % (i, letter, fill, i, letter)\n",
    "    #print(cube2)\n",
    "    #RGB_Image1 = aplpy.make_rgb_image(cube1,'/mnt/alt43-XDrive/Physics/Projects/MPhys Projects/2016-17/Gas Dust Galaxies/All Data/2MASS/OPRGB/%d%c%c_RGB.png' % (i, letter, fill), vmin_g=None, vmax_g=None, pmin_g=100, pmax_g=101)\n",
    "    #F_rgb = aplpy.FITSFigure('/mnt/alt43-XDrive/Physics/Projects/MPhys Projects/2016-17/Gas Dust Galaxies/All Data/2MASS/OPRGB/%d%c%c_Gcube%d%c_2d.fits' % (i, letter, fill, i, letter))\n",
    "    #F_rgb.show_rgb('/mnt/alt43-XDrive/Physics/Projects/MPhys Projects/2016-17/Gas Dust Galaxies/All Data/2MASS/OPRGB/%d%c%c_RGB.png' % (i, letter, fill))\n",
    "    #F_rgb.save('/mnt/alt43-XDrive/Physics/Projects/MPhys Projects/2016-17/Gas Dust Galaxies/All Data/2MASS/OPRGB/%d%c%c_RGB.png' % (i, letter, fill))"
   ]
  },
  {
   "cell_type": "code",
   "execution_count": 154,
   "metadata": {
    "collapsed": false
   },
   "outputs": [],
   "source": [
    "new_image_array_WISE = [ [0] * Length_Range_WISE[0] for p in range(Length_Range_WISE[0])]\n",
    "new_image_array_SDSS = [ [0] * Length_Range_SDSS[0] for p in range(Length_Range_SDSS[0])]\n",
    "new_image_array_COMBINE = [ [0] * Length_Range_SDSS[0] for p in range(Length_Range_SDSS[0])]\n",
    "\n",
    "#print(new_image_array_WISE)#[0][0])\n",
    "#print(newtestarraySDSS[1])\n",
    "#data_access = fits.getdata(newtestarraySDSS[1])#\n",
    "#print(data_access.shape)"
   ]
  },
  {
   "cell_type": "code",
   "execution_count": 156,
   "metadata": {
    "collapsed": false
   },
   "outputs": [],
   "source": [
    "for y in range(1, Length_Range_WISE[0]):\n",
    "    for x in range(1, Length_Range_WISE[0]):\n",
    "        #S_FluxTotal = np.sum(newtestarray2[0])\n",
    "        new_image_array_WISE[y-1][x-1] = 20.5 - (2.5*(np.log10(newtestarrayWISE[0][y-1][x-1])))#W1-10a\n",
    "        \n",
    "        #new_image_array_WISE[y-1][x-1] = 20.5 - (2.5*(np.log10(hdudataWISE[0][y-1][x-1])))\n",
    "        \n",
    "#print(new_image_array_WISE)        "
   ]
  },
  {
   "cell_type": "code",
   "execution_count": 163,
   "metadata": {
    "collapsed": false
   },
   "outputs": [
    {
     "name": "stdout",
     "output_type": "stream",
     "text": [
      "17.5144436216\n"
     ]
    }
   ],
   "source": [
    "for y in range(1, Length_Range_SDSS[0]):\n",
    "    for x in range(1, Length_Range_SDSS[0]):\n",
    "        #S_FluxTotal = np.sum(newtestarray2[0])      \n",
    "        new_image_array_SDSS[y-1][x-1] = 25.11 - (2.5*(np.log10(newtestarraySDSS[1][y-1][x-1])))#SDSS-g\n",
    "        #new_image_array3[y-1][x-1] = new_image_array2[y-1][x-1] - new_image_array1[y-1][x-1]      \n",
    "print new_image_array_SDSS[0][0]"
   ]
  },
  {
   "cell_type": "code",
   "execution_count": 164,
   "metadata": {
    "collapsed": true
   },
   "outputs": [],
   "source": [
    "hduWISE = fits.PrimaryHDU(new_image_array_WISE)#WISE\n",
    "hduSDSS = fits.PrimaryHDU(new_image_array_SDSS)#SDSS\n",
    "hdulistWISE = fits.HDUList([hduWISE])\n",
    "hdulistSDSS = fits.HDUList([hduSDSS])\n",
    "hdulistWISE.writeto('NewFileWISE.fits', clobber=True)\n",
    "hdulistSDSS.writeto('NewFileSDSS.fits', clobber=True)\n",
    "Overlap_WISE = 'NewFileWISE.fits'\n",
    "Overlap_SDSS = 'NewFileSDSS.fits'"
   ]
  },
  {
   "cell_type": "code",
   "execution_count": 176,
   "metadata": {
    "collapsed": false,
    "scrolled": true
   },
   "outputs": [
    {
     "name": "stdout",
     "output_type": "stream",
     "text": [
      "[[ 19.06390491  19.06367856  19.05696037 ...,  19.10381842  19.10377789\n",
      "    0.        ]\n",
      " [ 19.06581673  19.06355622  19.05519667 ...,  19.10341281  19.10282481\n",
      "    0.        ]\n",
      " [ 19.06893152  19.06572941  19.05599061 ...,  19.1033842   19.10228986\n",
      "    0.        ]\n",
      " ..., \n",
      " [ 19.09473124  19.08855844  19.08377859 ...,  19.01257175  19.02369487\n",
      "    0.        ]\n",
      " [ 19.09199673  19.0873948   19.08316183 ...,  19.04815692  19.05413377\n",
      "    0.        ]\n",
      " [  0.           0.           0.         ...,   0.           0.           0.        ]]\n",
      "[[ 17.51444362  17.49963068  17.50257753 ...,  17.51444362  17.5184276    0.        ]\n",
      " [ 17.51047336  17.50750564  17.50849389 ...,  17.49963068  17.51146458\n",
      "    0.        ]\n",
      " [ 17.50257753  17.50553154  17.50356101 ...,  17.52142571  17.5124564    0.        ]\n",
      " ..., \n",
      " [ 17.51344942  17.51643382  17.51444362 ...,  17.51047336  17.5124564    0.        ]\n",
      " [ 17.50948332  17.51543842  17.51344942 ...,  17.5124564   17.50750564\n",
      "    0.        ]\n",
      " [  0.           0.           0.         ...,   0.           0.           0.        ]]\n",
      "[[ nan  nan  nan ...,  nan  nan  nan]\n",
      " [ nan  nan  nan ...,  nan  nan  nan]\n",
      " [ nan  nan  nan ...,  nan  nan  nan]\n",
      " ..., \n",
      " [ nan  nan  nan ...,  nan  nan  nan]\n",
      " [ nan  nan  nan ...,  nan  nan  nan]\n",
      " [ nan  nan  nan ...,  nan  nan  nan]]\n"
     ]
    }
   ],
   "source": [
    "#hdu_list_overlapA = fits.open(Overlap_A)\n",
    "#hdu_list_overlapB = fits.open(Overlap_B)\n",
    "image_overlap_dataWISE = fits.getdata(Overlap_WISE)\n",
    "image_overlap_dataSDSS = fits.getdata(Overlap_SDSS)\n",
    "print image_overlap_dataWISE\n",
    "print image_overlap_dataSDSS\n",
    "shapeWISE = len(image_overlap_dataWISE)\n",
    "shapeSDSS = len(image_overlap_dataSDSS)\n",
    "hduWISE = fits.open(get_pkg_data_filename('NewFileWISE.fits'))[0]\n",
    "hduSDSS = fits.open(get_pkg_data_filename('NewFileSDSS.fits'))[0]\n",
    "wcsWISE = WCS(hduWISE.header)\n",
    "wcsSDSS = WCS(hduSDSS.header)\n",
    "reproj1, footprint1 = reproject_interp(parsing_headerWISE[0], wcsSDSS1[1], shape_out=[Length_Range_SDSS[0],Length_Range_SDSS[0]])\n",
    "#reproj2 = reproject_interp(hduB, wcs1, shape_out=len(image_overlap_dataB))\n",
    "#print(footprint1)\n",
    "#print( new_image_array2)\n",
    "print reproj1"
   ]
  },
  {
   "cell_type": "code",
   "execution_count": 172,
   "metadata": {
    "collapsed": false
   },
   "outputs": [
    {
     "name": "stdout",
     "output_type": "stream",
     "text": [
      "[[ nan  nan  nan ...,  nan  nan  nan]\n",
      " [ nan  nan  nan ...,  nan  nan  nan]\n",
      " [ nan  nan  nan ...,  nan  nan  nan]\n",
      " ..., \n",
      " [ nan  nan  nan ...,  nan  nan  nan]\n",
      " [ nan  nan  nan ...,  nan  nan  nan]\n",
      " [ nan  nan  nan ...,  nan  nan  nan]]\n"
     ]
    }
   ],
   "source": [
    "for y in range(1, 1489):\n",
    "    for x in range(1, 2048):\n",
    "        if footprint1[y-1][x-1] == 0:\n",
    "            break\n",
    "        else:\n",
    "            new_image_array_COMBINE[y-1][x-1] = reproj1[y-1][x-1] - image_overlap_dataSDSS[y-1][x-1]\n",
    "        \n",
    "        #new_image_array3[y-1][x-1] = reproj1[y-1][x-1] - reproj2[y-1][x-1]\n",
    "        #image_overlap_dataA[y-1][x-1] - image_overlap_dataB[y-1][x-1]\n",
    "print reproj1"
   ]
  },
  {
   "cell_type": "code",
   "execution_count": 180,
   "metadata": {
    "collapsed": false,
    "scrolled": true
   },
   "outputs": [
    {
     "name": "stdout",
     "output_type": "stream",
     "text": [
      "[[0 0 0 ..., 0 0 0]\n",
      " [0 0 0 ..., 0 0 0]\n",
      " [0 0 0 ..., 0 0 0]\n",
      " ..., \n",
      " [0 0 0 ..., 0 0 0]\n",
      " [0 0 0 ..., 0 0 0]\n",
      " [0 0 0 ..., 0 0 0]]\n",
      "19.0639049113\n",
      "17.5144436216\n",
      "[0, 0, 0, 0, 0, 0, 0, 0, 0, 0, 0, 0, 0, 0, 0, 0, 0, 0, 0, 0, 0, 0, 0, 0, 0, 0, 0, 0, 0, 0, 0, 0, 0, 0, 0, 0, 0, 0, 0, 0, 0, 0, 0, 0, 0, 0, 0, 0, 0, 0, 0, 0, 0, 0, 0, 0, 0, 0, 0, 0, 0, 0, 0, 0, 0, 0, 0, 0, 0, 0, 0, 0, 0, 0, 0, 0, 0, 0, 0, 0, 0, 0, 0, 0, 0, 0, 0, 0, 0, 0, 0, 0, 0, 0, 0, 0, 0, 0, 0, 0, 0, 0, 0, 0, 0, 0, 0, 0, 0, 0, 0, 0, 0, 0, 0, 0, 0, 0, 0, 0, 0, 0, 0, 0, 0, 0, 0, 0, 0, 0, 0, 0, 0, 0, 0, 0, 0, 0, 0, 0, 0, 0, 0, 0, 0, 0, 0, 0, 0, 0, 0, 0, 0, 0, 0, 0, 0, 0, 0, 0, 0, 0, 0, 0, 0, 0, 0, 0, 0, 0, 0, 0, 0, 0, 0, 0, 0, 0, 0, 0, 0, 0, 0, 0, 0, 0, 0, 0, 0, 0, 0, 0, 0, 0, 0, 0, 0, 0, 0, 0, 0, 0, 0, 0, 0, 0, 0, 0, 0, 0, 0, 0, 0, 0, 0, 0, 0, 0, 0, 0, 0, 0, 0, 0, 0, 0, 0, 0, 0, 0, 0, 0, 0, 0, 0, 0, 0, 0, 0, 0, 0, 0, 0, 0, 0, 0, 0, 0, 0, 0, 0, 0, 0, 0, 0, 0, 0, 0, 0, 0, 0, 0, 0, 0, 0, 0, 0, 0, 0, 0, 0, 0, 0, 0, 0, 0, 0, 0, 0, 0, 0, 0, 0, 0, 0, 0, 0, 0, 0, 0, 0, 0, 0, 0, 0, 0, 0, 0, 0, 0, 0, 0, 0, 0, 0, 0, 0, 0, 0, 0, 0, 0, 0, 0, 0, 0, 0, 0, 0, 0, 0, 0, 0, 0, 0, 0, 0, 0, 0, 0, 0, 0, 0, 0, 0, 0, 0, 0, 0, 0, 0, 0, 0, 0, 0, 0, 0, 0, 0, 0, 0, 0, 0, 0, 0, 0, 0, 0, 0, 0, 0, 0, 0, 0, 0, 0, 0, 0, 0, 0, 0, 0, 0, 0, 0, 0, 0, 0, 0, 0, 0, 0, 0, 0, 0, 0, 0, 0, 0, 0, 0, 0, 0, 0, 0, 0, 0, 0, 0, 0, 0, 0, 0, 0, 0, 0, 0, 0, 0, 0, 0, 0, 0, 0, 0, 0, 0, 0, 0, 0, 0, 0, 0, 0, 0, 0, 0, 0, 0, 0, 0, 0, 0, 0, 0, 0, 0, 0, 0, 0, 0, 0, 0, 0, 0, 0, 0, 0, 0, 0, 0, 0, 0, 0, 0, 0, 0, 0, 0, 0, 0, 0, 0, 0, 0, 0, 0, 0, 0, 0, 0, 0, 0, 0, 0, 0, 0, 0, 0, 0, 0, 0, 0, 0, 0, 0, 0, 0, 0, 0, 0, 0, 0, 0, 0, 0, 0, 0, 0, 0, 0, 0, 0, 0, 0, 0, 0, 0, 0, 0, 0, 0, 0, 0, 0, 0, 0, 0, 0, 0, 0, 0, 0, 0, 0, 0, 0, 0, 0, 0, 0, 0, 0, 0, 0, 0, 0, 0, 0, 0, 0, 0, 0, 0, 0, 0, 0, 0, 0, 0, 0, 0, 0, 0, 0, 0, 0, 0, 0, 0, 0, 0, 0, 0, 0, 0, 0, 0, 0, 0, 0, 0, 0, 0, 0, 0, 0, 0, 0, 0, 0, 0, 0, 0, 0, 0, 0, 0, 0, 0, 0, 0, 0, 0, 0, 0, 0, 0, 0, 0, 0, 0, 0, 0, 0, 0, 0, 0, 0, 0, 0, 0, 0, 0, 0, 0, 0, 0, 0, 0, 0, 0, 0, 0, 0, 0, 0, 0, 0, 0, 0, 0, 0, 0, 0, 0, 0, 0, 0, 0, 0, 0, 0, 0, 0, 0, 0, 0, 0, 0, 0, 0, 0, 0, 0, 0, 0, 0, 0, 0, 0, 0, 0, 0, 0, 0, 0, 0, 0, 0, 0, 0, 0, 0, 0, 0, 0, 0, 0, 0, 0, 0, 0, 0, 0, 0, 0, 0, 0, 0, 0, 0, 0, 0, 0, 0, 0, 0, 0, 0, 0, 0, 0, 0, 0, 0, 0, 0, 0, 0, 0, 0, 0, 0, 0, 0, 0, 0, 0, 0, 0, 0, 0, 0, 0, 0, 0, 0, 0, 0, 0, 0, 0, 0, 0, 0, 0, 0, 0, 0, 0, 0, 0, 0, 0, 0, 0, 0, 0, 0, 0, 0, 0, 0, 0, 0, 0, 0, 0, 0, 0, 0, 0, 0, 0, 0, 0, 0, 0, 0, 0, 0, 0, 0, 0, 0, 0, 0, 0, 0, 0, 0, 0, 0, 0, 0, 0, 0, 0, 0, 0, 0, 0, 0, 0, 0, 0, 0, 0, 0, 0, 0, 0, 0, 0, 0, 0, 0, 0, 0, 0, 0, 0, 0, 0, 0, 0, 0, 0, 0, 0, 0, 0, 0, 0, 0, 0, 0, 0, 0, 0, 0, 0, 0, 0, 0, 0, 0, 0, 0, 0, 0, 0, 0, 0, 0, 0, 0, 0, 0, 0, 0, 0, 0, 0, 0, 0, 0, 0, 0, 0, 0, 0, 0, 0, 0, 0, 0, 0, 0, 0, 0, 0, 0, 0, 0, 0, 0, 0, 0, 0, 0, 0, 0, 0, 0, 0, 0, 0, 0, 0, 0, 0, 0, 0, 0, 0, 0, 0, 0, 0, 0, 0, 0, 0, 0, 0, 0, 0, 0, 0, 0, 0, 0, 0, 0, 0, 0, 0, 0, 0, 0, 0, 0, 0, 0, 0, 0, 0, 0, 0, 0, 0, 0, 0, 0, 0, 0, 0, 0, 0, 0, 0, 0, 0, 0, 0, 0, 0, 0, 0, 0, 0, 0, 0, 0, 0, 0, 0, 0, 0, 0, 0, 0, 0, 0, 0, 0, 0, 0, 0, 0, 0, 0, 0, 0, 0, 0, 0, 0, 0, 0, 0, 0, 0, 0, 0, 0, 0, 0, 0, 0, 0, 0, 0, 0, 0, 0, 0, 0, 0, 0, 0, 0, 0, 0, 0, 0, 0, 0, 0, 0, 0, 0, 0, 0, 0, 0, 0, 0, 0, 0, 0, 0, 0, 0, 0, 0, 0, 0, 0, 0, 0, 0, 0, 0, 0, 0, 0, 0, 0, 0, 0, 0, 0, 0, 0, 0, 0, 0, 0, 0, 0, 0, 0, 0, 0, 0, 0, 0, 0, 0, 0, 0, 0, 0, 0, 0, 0, 0, 0, 0, 0, 0, 0, 0, 0, 0, 0, 0, 0, 0, 0, 0, 0, 0, 0, 0, 0, 0, 0, 0, 0, 0, 0, 0, 0, 0, 0, 0, 0, 0, 0, 0, 0, 0, 0, 0, 0, 0, 0, 0, 0, 0, 0, 0, 0, 0, 0, 0, 0, 0, 0, 0, 0, 0, 0, 0, 0, 0, 0, 0, 0, 0, 0, 0, 0, 0, 0, 0, 0, 0, 0, 0, 0, 0, 0, 0, 0, 0, 0, 0, 0, 0, 0, 0, 0, 0, 0, 0, 0, 0, 0, 0, 0, 0, 0, 0, 0, 0, 0, 0, 0, 0, 0, 0, 0, 0, 0, 0, 0, 0, 0, 0, 0, 0, 0, 0, 0, 0, 0, 0, 0, 0, 0, 0, 0, 0, 0, 0, 0, 0, 0, 0, 0, 0, 0, 0, 0, 0, 0, 0, 0, 0, 0, 0, 0, 0, 0, 0, 0, 0, 0, 0, 0, 0, 0, 0, 0, 0, 0, 0, 0, 0, 0, 0, 0, 0, 0, 0, 0, 0, 0, 0, 0, 0, 0, 0, 0, 0, 0, 0, 0, 0, 0, 0, 0, 0, 0, 0, 0, 0, 0, 0, 0, 0, 0, 0, 0, 0, 0, 0, 0, 0, 0, 0, 0, 0, 0, 0, 0, 0, 0, 0, 0, 0, 0, 0, 0, 0, 0, 0, 0, 0, 0, 0, 0, 0, 0, 0, 0, 0, 0, 0, 0, 0, 0, 0, 0, 0, 0, 0, 0, 0, 0, 0, 0, 0, 0, 0, 0, 0, 0, 0, 0, 0, 0, 0, 0, 0, 0, 0, 0, 0, 0, 0, 0, 0, 0, 0, 0, 0, 0, 0, 0, 0, 0, 0, 0, 0, 0, 0, 0, 0, 0, 0, 0, 0, 0, 0, 0, 0, 0, 0, 0, 0, 0, 0, 0, 0, 0, 0, 0, 0, 0, 0, 0, 0, 0, 0, 0, 0, 0, 0, 0, 0, 0, 0, 0, 0, 0, 0, 0, 0, 0, 0, 0, 0, 0, 0, 0, 0, 0, 0, 0, 0, 0, 0, 0, 0, 0, 0, 0, 0, 0, 0, 0, 0, 0, 0, 0, 0, 0, 0, 0, 0, 0, 0, 0, 0, 0, 0, 0, 0, 0, 0, 0, 0, 0, 0, 0, 0, 0, 0, 0, 0, 0, 0, 0, 0, 0, 0, 0, 0, 0, 0, 0, 0, 0, 0, 0, 0, 0, 0, 0, 0, 0, 0, 0, 0, 0, 0, 0, 0, 0, 0, 0, 0, 0, 0, 0, 0, 0, 0, 0, 0, 0, 0, 0]\n"
     ]
    }
   ],
   "source": [
    "hduCOMBINE = fits.PrimaryHDU(new_image_array_COMBINE)#SDSS\n",
    "hdulistCOMBINE = fits.HDUList([hduCOMBINE])\n",
    "hdulistCOMBINE.writeto('NewFileCOMBINE.fits', clobber=True)\n",
    "Overlap_COMBINE = 'NewFileCOMBINE.fits'\n",
    "image_overlap_dataCOMBINE = fits.getdata(Overlap_COMBINE)\n",
    "\n",
    "#plt.figure(1)\n",
    "#plt.imshow(image_overlap_dataCOMBINE)\n",
    "print image_overlap_dataCOMBINE\n",
    "print(new_image_array_WISE[0][0])\n",
    "print(new_image_array_SDSS[0][0])\n",
    "print(new_image_array_COMBINE[0]) "
   ]
  },
  {
   "cell_type": "code",
   "execution_count": 181,
   "metadata": {
    "collapsed": false
   },
   "outputs": [
    {
     "data": {
      "text/plain": [
       "\"\\nThe for loops have a range of 230 which is not the correct length of the data in the FITS files' arrays.\\nNot sure what sort of range to apply to these for loops\\nThis code is giving an error of array indices being out of range and the for loops may be the result?\\n\""
      ]
     },
     "execution_count": 181,
     "metadata": {},
     "output_type": "execute_result"
    },
    {
     "data": {
      "image/png": "[encoded data removed]",
      "text/plain": [
       "<matplotlib.figure.Figure at 0x7fd269417d90>"
      ]
     },
     "metadata": {},
     "output_type": "display_data"
    }
   ],
   "source": [
    "plt.figure(1)\n",
    "plt.imshow(reproj1)\n",
    "\n",
    "'''\n",
    "The for loops have a range of 230 which is not the correct length of the data in the FITS files' arrays.\n",
    "Not sure what sort of range to apply to these for loops\n",
    "This code is giving an error of array indices being out of range and the for loops may be the result?\n",
    "'''"
   ]
  },
  {
   "cell_type": "code",
   "execution_count": 181,
   "metadata": {
    "collapsed": false
   },
   "outputs": [],
   "source": [
    "###Vickys test starts here"
   ]
  },
  {
   "cell_type": "code",
   "execution_count": 117,
   "metadata": {
    "collapsed": false
   },
   "outputs": [],
   "source": [
    "new_image_array_WISE = [ [0] * Length_Range_WISE[0] for p in range(Length_Range_WISE[0])]\n",
    "new_image_array_SDSS = [ [0] * Length_Range_SDSS[0] for p in range(Length_Range_SDSS[0])]\n",
    "new_image_array_COMBINE = [ [0] * Length_Range_SDSS[0] for p in range(Length_Range_SDSS[0])]"
   ]
  },
  {
   "cell_type": "code",
   "execution_count": 118,
   "metadata": {
    "collapsed": true
   },
   "outputs": [],
   "source": [
    "def test_dim(testlist, dim=0):\n",
    "### tests how many dimensions a list has\n",
    "### copied from here: http://stackoverflow.com/questions/15985389/python-check-if-list-is-multidimensional-or-one-dimensional\n",
    "   if isinstance(testlist, list):\n",
    "      if testlist == []:\n",
    "          return dim\n",
    "      dim = dim + 1\n",
    "      dim = test_dim(testlist[0], dim)\n",
    "      return dim\n",
    "   else:\n",
    "      if dim == 0:\n",
    "          return -1\n",
    "      else:\n",
    "          return dim"
   ]
  },
  {
   "cell_type": "code",
   "execution_count": 119,
   "metadata": {
    "collapsed": false
   },
   "outputs": [
    {
     "data": {
      "text/plain": [
       "2"
      ]
     },
     "execution_count": 119,
     "metadata": {},
     "output_type": "execute_result"
    }
   ],
   "source": [
    "test_dim(new_image_array_WISE)"
   ]
  },
  {
   "cell_type": "code",
   "execution_count": 120,
   "metadata": {
    "collapsed": false
   },
   "outputs": [
    {
     "data": {
      "text/plain": [
       "(1, 1)"
      ]
     },
     "execution_count": 120,
     "metadata": {},
     "output_type": "execute_result"
    }
   ],
   "source": [
    "new_image_array_WISE = np.array(new_image_array_WISE)\n",
    "new_image_array_WISE.shape"
   ]
  },
  {
   "cell_type": "code",
   "execution_count": 121,
   "metadata": {
    "collapsed": true
   },
   "outputs": [],
   "source": [
    "new_image_array_SDSS = np.array(new_image_array_SDSS)\n",
    "new_image_array_COMBINE = np.array(new_image_array_COMBINE)"
   ]
  },
  {
   "cell_type": "code",
   "execution_count": 122,
   "metadata": {
    "collapsed": false
   },
   "outputs": [
    {
     "name": "stdout",
     "output_type": "stream",
     "text": [
      "[[0]]\n",
      "1.44586622715\n"
     ]
    }
   ],
   "source": [
    "#print(newtestarrayWISE[0])#[0][0])\n",
    "#print(newtestarray1[1])\n",
    "for y in range(1, Length_Range_WISE[0]):\n",
    "    for x in range(1, Length_Range_WISE[0]):\n",
    "        #S_FluxTotal = np.sum(newtestarray2[0])\n",
    "        a=(2.5*(np.log10(newtestarrayWISE[0][y-1][x-1])))\n",
    "        \n",
    "        new_image_array_WISE[y-1][x-1] = round(20.50000000000000, 8) - round(a,8) #W1-10a\n",
    "\n",
    "        new_image_array_WISE[y-1][x-1] = 20.5 - (2.5*(np.log10(hdudataWISE[0][y-1][x-1])))\n",
    "        \n",
    "print(new_image_array_WISE)        \n",
    "print(a)        #print new_image_array_WISE[0]        \n",
    "## This still works because the indexing is still the same even though the arrays have been converted. But they'll be easier to work with later on."
   ]
  },
  {
   "cell_type": "code",
   "execution_count": 123,
   "metadata": {
    "collapsed": false
   },
   "outputs": [],
   "source": [
    "for y in range(1, Length_Range_SDSS[0]):\n",
    "    for x in range(1, Length_Range_SDSS[0]):\n",
    "        #S_FluxTotal = np.sum(newtestarray2[0])      \n",
    "        new_image_array_SDSS[y-1][x-1] = 25.11 - (2.5*(np.log10(newtestarraySDSS[1][y-1][x-1])))#SDSS-g\n",
    "        #new_image_array3[y-1][x-1] = new_image_array2[y-1][x-1] - new_image_array1[y-1][x-1]              "
   ]
  },
  {
   "cell_type": "code",
   "execution_count": 124,
   "metadata": {
    "collapsed": true
   },
   "outputs": [],
   "source": [
    "hduWISE = fits.PrimaryHDU(new_image_array_WISE)#WISE\n",
    "hduSDSS = fits.PrimaryHDU(new_image_array_SDSS)#SDSS\n",
    "hdulistWISE = fits.HDUList([hduWISE])\n",
    "hdulistSDSS = fits.HDUList([hduSDSS])"
   ]
  },
  {
   "cell_type": "code",
   "execution_count": 125,
   "metadata": {
    "collapsed": false
   },
   "outputs": [
    {
     "data": {
      "text/plain": [
       "[<astropy.io.fits.hdu.image.PrimaryHDU at 0x7fd2694dcf50>]"
      ]
     },
     "execution_count": 125,
     "metadata": {},
     "output_type": "execute_result"
    }
   ],
   "source": [
    "hdulistWISE"
   ]
  },
  {
   "cell_type": "code",
   "execution_count": 126,
   "metadata": {
    "collapsed": true
   },
   "outputs": [],
   "source": [
    "hdulistWISE.writeto('NewFileWISE.fits', clobber=True)\n",
    "hdulistSDSS.writeto('NewFileSDSS.fits', clobber=True)"
   ]
  },
  {
   "cell_type": "code",
   "execution_count": 127,
   "metadata": {
    "collapsed": false
   },
   "outputs": [
    {
     "data": {
      "text/plain": [
       "SIMPLE  =                    T / conforms to FITS standard                      \n",
       "BITPIX  =                   64 / array data type                                \n",
       "NAXIS   =                    2 / number of array dimensions                     \n",
       "NAXIS1  =                    1                                                  \n",
       "NAXIS2  =                    1                                                  \n",
       "EXTEND  =                    T                                                  "
      ]
     },
     "execution_count": 127,
     "metadata": {},
     "output_type": "execute_result"
    },
    {
     "data": {
      "image/png": "[encoded data removed]",
      "text/plain": [
       "<matplotlib.figure.Figure at 0x7fd277b75b10>"
      ]
     },
     "metadata": {},
     "output_type": "display_data"
    }
   ],
   "source": [
    "plt.figure(1)\n",
    "plt.imshow(hdulistWISE[0].data)\n",
    "plt.title('NewFileWISE.fits')\n",
    "\n",
    "hdulistWISE[0].header"
   ]
  },
  {
   "cell_type": "code",
   "execution_count": 128,
   "metadata": {
    "collapsed": false
   },
   "outputs": [
    {
     "data": {
      "text/plain": [
       "SIMPLE  =                    T / conforms to FITS standard                      \n",
       "BITPIX  =                   64 / array data type                                \n",
       "NAXIS   =                    2 / number of array dimensions                     \n",
       "NAXIS1  =                 1489                                                  \n",
       "NAXIS2  =                 1489                                                  \n",
       "EXTEND  =                    T                                                  "
      ]
     },
     "execution_count": 128,
     "metadata": {},
     "output_type": "execute_result"
    },
    {
     "data": {
      "image/png": "[encoded data removed]",
      "text/plain": [
       "<matplotlib.figure.Figure at 0x7fd261c8b210>"
      ]
     },
     "metadata": {},
     "output_type": "display_data"
    }
   ],
   "source": [
    "\n",
    "\n",
    "plt.figure(1)\n",
    "plt.imshow(hdulistSDSS[0].data)\n",
    "plt.title('NewFileSDSS.fits')\n",
    "\n",
    "hdulistSDSS[0].header\n",
    "\n"
   ]
  },
  {
   "cell_type": "code",
   "execution_count": 129,
   "metadata": {
    "collapsed": true
   },
   "outputs": [],
   "source": [
    "Overlap_WISE = 'NewFileWISE.fits'\n",
    "Overlap_SDSS = 'NewFileSDSS.fits'\n",
    "\n",
    "#hdu_list_overlapA = fits.open(Overlap_A)\n",
    "#hdu_list_overlapB = fits.open(Overlap_B)\n",
    "image_overlap_dataWISE = fits.getdata(Overlap_WISE)\n",
    "image_overlap_dataSDSS = fits.getdata(Overlap_SDSS)\n",
    "shapeWISE = len(image_overlap_dataWISE)\n",
    "shapeSDSS = len(image_overlap_dataSDSS)"
   ]
  },
  {
   "cell_type": "code",
   "execution_count": 130,
   "metadata": {
    "collapsed": false
   },
   "outputs": [
    {
     "data": {
      "text/plain": [
       "(1, 1)"
      ]
     },
     "execution_count": 130,
     "metadata": {},
     "output_type": "execute_result"
    }
   ],
   "source": [
    "image_overlap_dataWISE = np.array(image_overlap_dataWISE)\n",
    "shapeWISE = image_overlap_dataWISE.shape\n",
    "shapeWISE"
   ]
  },
  {
   "cell_type": "code",
   "execution_count": 131,
   "metadata": {
    "collapsed": false
   },
   "outputs": [
    {
     "data": {
      "text/plain": [
       "(1489, 1489)"
      ]
     },
     "execution_count": 131,
     "metadata": {},
     "output_type": "execute_result"
    }
   ],
   "source": [
    "image_overlap_dataSDSS = np.array(image_overlap_dataSDSS)\n",
    "shapeSDSS = image_overlap_dataSDSS.shape\n",
    "shapeSDSS"
   ]
  },
  {
   "cell_type": "code",
   "execution_count": 132,
   "metadata": {
    "collapsed": true
   },
   "outputs": [],
   "source": [
    "hduWISE = fits.open(get_pkg_data_filename('NewFileWISE.fits'))[0]\n",
    "hduSDSS = fits.open(get_pkg_data_filename('NewFileSDSS.fits'))[0]\n",
    "wcsWISE = WCS(hduWISE.header)\n",
    "wcsSDSS = WCS(hduSDSS.header)"
   ]
  },
  {
   "cell_type": "code",
   "execution_count": 133,
   "metadata": {
    "collapsed": false
   },
   "outputs": [
    {
     "name": "stdout",
     "output_type": "stream",
     "text": [
      "wcsWISE\n",
      "WCS Keywords\n",
      "\n",
      "Number of WCS axes: 2\n",
      "CTYPE : ''  ''  \n",
      "CRVAL : 0.0  0.0  \n",
      "CRPIX : 0.0  0.0  \n",
      "PC1_1 PC1_2  : 1.0  0.0  \n",
      "PC2_1 PC2_2  : 0.0  1.0  \n",
      "CDELT : 1.0  1.0  \n",
      "NAXIS    : 1 1\n",
      "\n",
      "\n",
      "wcsSDSS\n",
      "WCS Keywords\n",
      "\n",
      "Number of WCS axes: 2\n",
      "CTYPE : ''  ''  \n",
      "CRVAL : 0.0  0.0  \n",
      "CRPIX : 0.0  0.0  \n",
      "PC1_1 PC1_2  : 1.0  0.0  \n",
      "PC2_1 PC2_2  : 0.0  1.0  \n",
      "CDELT : 1.0  1.0  \n",
      "NAXIS    : 1489 1489\n"
     ]
    }
   ],
   "source": [
    "print 'wcsWISE'\n",
    "print wcsWISE\n",
    "print '\\n'\n",
    "print 'wcsSDSS'\n",
    "print wcsSDSS"
   ]
  },
  {
   "cell_type": "code",
   "execution_count": 143,
   "metadata": {
    "collapsed": false
   },
   "outputs": [
    {
     "name": "stdout",
     "output_type": "stream",
     "text": [
      "0\n",
      "17\n",
      "0\n"
     ]
    },
    {
     "data": {
      "text/plain": [
       "<matplotlib.colorbar.Colorbar at 0x7fd269324190>"
      ]
     },
     "execution_count": 143,
     "metadata": {},
     "output_type": "execute_result"
    },
    {
     "data": {
      "image/png": "[encoded data removed]",
      "text/plain": [
       "<matplotlib.figure.Figure at 0x7fd261c9d9d0>"
      ]
     },
     "metadata": {},
     "output_type": "display_data"
    }
   ],
   "source": [
    "reproj1, footprint1 = reproject_interp(parsing_headerWISE[0], wcsSDSS1[1], shape_out=[Length_Range_SDSS[0],Length_Range_SDSS[0]])\n",
    "#reproj2 = reproject_interp(hduB, wcs1, shape_out=len(image_overlap_dataB))\n",
    "#print(footprint1)\n",
    "#print( new_image_array2)\n",
    "for y in range(1, 230):\n",
    "    for x in range(1, 230):\n",
    "        if footprint1[y-1][x-1] == 0:\n",
    "            break\n",
    "        else:\n",
    "            new_image_array_COMBINE[y-1][x-1] = reproj1[y-1][x-1] - image_overlap_dataSDSS[y-1][x-1]\n",
    "        \n",
    "        #new_image_array3[y-1][x-1] = reproj1[y-1][x-1] - reproj2[y-1][x-1]\n",
    "        #image_overlap_dataA[y-1][x-1] - image_overlap_dataB[y-1][x-1]\n",
    "\n",
    "print(new_image_array_WISE[0][0])\n",
    "print(new_image_array_SDSS[0][0])\n",
    "print(new_image_array_COMBINE[0][0])  \n",
    "\n",
    "plt.figure(1)\n",
    "plt.imshow(reproj1)\n",
    "plt.colorbar()"
   ]
  },
  {
   "cell_type": "code",
   "execution_count": null,
   "metadata": {
    "collapsed": true
   },
   "outputs": [],
   "source": [
    "'''\n",
    "So now this plot makes a lot more sense! Because both of your new images - \n",
    "NewFileWISE.fits and NewFileSDSS.fits - \n",
    "are missing all the WCS information from the header, \n",
    "the reproj code sets all the parameters to the default values. \n",
    "This means it thinks there isn't any reprojecting to do because the images are already in the same system.\n",
    "\n",
    "Suggestions for next steps\n",
    "\n",
    "There's a key point early on in your code that results in the images not having WCS information in the header. \n",
    "If you solve that issue, your code will work. \n",
    "I'm not going to tell you exactly what to do because you can absolutely get it yourself, \n",
    "    we just need to simplify the code a little bit (and that's a good thing).\n",
    "\n",
    "Try to break up your code into steps, like I have here, \n",
    "    to find where the problem is and see if you could simplify what's going on at that stage. \n",
    "What are you doing to the images there? \n",
    "It's easier to get one thing working then to add a step than to try to add all the things at once.\n",
    "\n",
    "Check what's actually in your variables, arrays, images, headers, etc at each stage too. \n",
    "Again, this is easier if you break it up into chunks. It's totally OK to have one line of code in a cell. \n",
    "Here's an example of some (what I thought initially would be simple) code that took me a looooong time to debug:\n",
    "https://github.com/vickyscowcroft/ipython_notebooks/blob/master/simple_rrlyrae_lightcurves.ipynb \n",
    "If you look at the first 12 cells, I keep printing the same table and the length of the arrays out. \n",
    "That was because I was trying to match some tables using the name of the stars, \n",
    "   but the capital letters were messing everything up. \n",
    "It took literally days to fix, but the only way I could see what was going on was looking at what \n",
    "   was in the tables to see if they were what I thought they should be.\n",
    "\n",
    "Comment your code! It will be really helpful to you later on if you write now what you think it should do, \n",
    "   what it actually does, and why you think it might not be doing what you think. \n",
    "Even something you think is super obvious now will not be in a weeks time. LEARN FROM MY MISFORTUNE.\n",
    "'''"
   ]
  }
 ],
 "metadata": {
  "anaconda-cloud": {},
  "kernelspec": {
   "display_name": "Python [conda env:iraf27]",
   "language": "python",
   "name": "conda-env-iraf27-py"
  },
  "language_info": {
   "codemirror_mode": {
    "name": "ipython",
    "version": 2
   },
   "file_extension": ".py",
   "mimetype": "text/x-python",
   "name": "python",
   "nbconvert_exporter": "python",
   "pygments_lexer": "ipython2",
   "version": "2.7.12"
  }
 },
 "nbformat": 4,
 "nbformat_minor": 1
}
